{
 "cells": [
  {
   "cell_type": "markdown",
   "id": "bbd65127",
   "metadata": {},
   "source": [
    "# OOPS"
   ]
  },
  {
   "cell_type": "code",
   "execution_count": 1,
   "id": "031f60d2",
   "metadata": {},
   "outputs": [],
   "source": [
    "# Class-Template\n",
    "# Object-Instance of classes \n",
    "# DRY- Do not Repeat Yourself"
   ]
  },
  {
   "cell_type": "code",
   "execution_count": 2,
   "id": "7240a0d9",
   "metadata": {
    "scrolled": true
   },
   "outputs": [
    {
     "name": "stdout",
     "output_type": "stream",
     "text": [
      "1 ['hindi', 'physics']\n"
     ]
    }
   ],
   "source": [
    "class Student:\n",
    "    pass\n",
    "\n",
    "Harry = Student()\n",
    "Akanksha = Student()\n",
    "\n",
    "Harry.name=\"Harry\"\n",
    "Harry.std=12\n",
    "Harry.section=1\n",
    "\n",
    "Akanksha.subject=[\"hindi\",\"physics\"]\n",
    "\n",
    "print(Harry.section, Akanksha.subject)"
   ]
  },
  {
   "cell_type": "code",
   "execution_count": 3,
   "id": "d4337498",
   "metadata": {},
   "outputs": [
    {
     "name": "stdout",
     "output_type": "stream",
     "text": [
      "8\n",
      "{'name': 'rohan', 'salary': 4554, 'role': 'instructor'}\n",
      "{'name': 'rohan', 'salary': 4554, 'role': 'instructor', 'no_of_leaves': 9}\n",
      "8\n"
     ]
    }
   ],
   "source": [
    "class Employee:\n",
    "    no_of_leaves=8\n",
    "    pass\n",
    "harry=Employee()\n",
    "rohan=Employee()\n",
    "\n",
    "harry.name=\"harry\"\n",
    "harry.salary=455\n",
    "harry.role=\"instructor\"\n",
    "\n",
    "rohan.name=\"rohan\"\n",
    "rohan.salary=4554\n",
    "rohan.role=\"instructor\"\n",
    "\n",
    "print(Employee. no_of_leaves)\n",
    "print(rohan.__dict__)\n",
    "rohan.no_of_leaves=9\n",
    "print(rohan.__dict__)\n",
    "print(Employee.no_of_leaves)"
   ]
  },
  {
   "cell_type": "code",
   "execution_count": 4,
   "id": "a828ceb2",
   "metadata": {},
   "outputs": [
    {
     "name": "stdout",
     "output_type": "stream",
     "text": [
      "Name is rohan. Salary is 4554 and role is student\n",
      "Name is harry. Salary is 455 and role is instructor\n",
      "9\n",
      "8\n",
      "8\n"
     ]
    }
   ],
   "source": [
    "class Employee:\n",
    "    no_of_leaves=8\n",
    "    \n",
    "    def printdetails(self):\n",
    "        return f\"Name is {self.name}. Salary is {self.salary} and role is {self.role}\"\n",
    "\n",
    "harry=Employee()\n",
    "rohan=Employee()\n",
    "\n",
    "harry.name=\"harry\"\n",
    "harry.salary=455\n",
    "harry.role=\"instructor\"\n",
    "\n",
    "rohan.name=\"rohan\"\n",
    "rohan.salary=4554\n",
    "rohan.role=\"student\"\n",
    "rohan.no_of_leaves=9\n",
    "print(rohan.printdetails())\n",
    "print(harry.printdetails())\n",
    "print(rohan.no_of_leaves)\n",
    "print(harry.no_of_leaves)\n",
    "print(Employee.no_of_leaves)"
   ]
  },
  {
   "cell_type": "code",
   "execution_count": 5,
   "id": "b5ceaf6b",
   "metadata": {},
   "outputs": [
    {
     "name": "stdout",
     "output_type": "stream",
     "text": [
      "34\n"
     ]
    }
   ],
   "source": [
    " class Employee:\n",
    "    no_of_leaves=8\n",
    "    \n",
    "    def __init__(self,aname,asalary,arole):\n",
    "        self.name=aname\n",
    "        self.salary=asalary\n",
    "        self.role=arole\n",
    "        \n",
    "    def printdetails(self):\n",
    "        return f\"Name is {self.name}. Salary is {self.salary} and role is {self.role}\"\n",
    "\n",
    "    @classmethod\n",
    "    def change_leaves(cls, newleaves):\n",
    "        cls.no_of_leaves = newleaves\n",
    "\n",
    "        \n",
    "harry=Employee(\"Harry\",255,\"Instructor\")\n",
    "rohan=Employee(\"Rohan\",455,\"Student\")\n",
    "\n",
    "rohan.change_leaves(34)\n",
    "print(rohan.no_of_leaves)\n"
   ]
  },
  {
   "cell_type": "code",
   "execution_count": 6,
   "id": "d6b99d7f",
   "metadata": {},
   "outputs": [
    {
     "name": "stdout",
     "output_type": "stream",
     "text": [
      "This is good Harry\n",
      "None\n"
     ]
    }
   ],
   "source": [
    " class Employee:\n",
    "    no_of_leaves=8\n",
    "    def __init__(self,aname,asalary,arole):\n",
    "        self.name=aname\n",
    "        self.salary=asalary\n",
    "        self.role=arole\n",
    "        \n",
    "    def printdetails(self):\n",
    "        return f\"Name is {self.name}. Salary is {self.salary} and role is {self.role}\"\n",
    "\n",
    "    @classmethod\n",
    "    def change_leaves(cls, newleaves):\n",
    "        cls.no_of_leaves = newleaves\n",
    "        \n",
    "    @classmethod\n",
    "    def from_str(cls,string):\n",
    "#         params=string.split(\"-\")\n",
    "#         print(params)\n",
    "#         return cls(params[0],params[1],params[2])\n",
    "          return cls(*string.split(\"-\"))\n",
    "\n",
    "    @staticmethod\n",
    "    def from_dash(string):\n",
    "        print(\"This is good \" + string)\n",
    "        \n",
    "harry=Employee(\"Harry\",255,\"Instructor\")\n",
    "rohan=Employee(\"Rohan\",455,\"Student\")\n",
    "karan=Employee.from_str(\"Karan-480-Student\")\n",
    "\n",
    "# rohan.change_leaves(34)\n",
    "# print(rohan.no_of_leaves)\n",
    "\n",
    "print(karan.from_dash(\"Harry\"))"
   ]
  },
  {
   "cell_type": "code",
   "execution_count": 7,
   "id": "70825110",
   "metadata": {},
   "outputs": [],
   "source": [
    "class Human:\n",
    "    name=\"Virat\"\n",
    "    age=30\n",
    "    name=\"Akanksha\"\n",
    "    age=23\n"
   ]
  },
  {
   "cell_type": "code",
   "execution_count": 8,
   "id": "55a2e20d",
   "metadata": {},
   "outputs": [
    {
     "ename": "NameError",
     "evalue": "name 'H1' is not defined",
     "output_type": "error",
     "traceback": [
      "\u001b[1;31m---------------------------------------------------------------------------\u001b[0m",
      "\u001b[1;31mNameError\u001b[0m                                 Traceback (most recent call last)",
      "\u001b[1;32m<ipython-input-8-a0d884027116>\u001b[0m in \u001b[0;36m<module>\u001b[1;34m\u001b[0m\n\u001b[0;32m      1\u001b[0m \u001b[0mA\u001b[0m\u001b[1;33m=\u001b[0m\u001b[0mHuman\u001b[0m\u001b[1;33m(\u001b[0m\u001b[1;33m)\u001b[0m\u001b[1;33m\u001b[0m\u001b[1;33m\u001b[0m\u001b[0m\n\u001b[1;32m----> 2\u001b[1;33m \u001b[0mprint\u001b[0m\u001b[1;33m(\u001b[0m\u001b[0mH1\u001b[0m\u001b[1;33m.\u001b[0m\u001b[0mname\u001b[0m\u001b[1;33m,\u001b[0m\u001b[0mH1\u001b[0m\u001b[1;33m.\u001b[0m\u001b[0mage\u001b[0m\u001b[1;33m)\u001b[0m\u001b[1;33m\u001b[0m\u001b[1;33m\u001b[0m\u001b[0m\n\u001b[0m",
      "\u001b[1;31mNameError\u001b[0m: name 'H1' is not defined"
     ]
    }
   ],
   "source": [
    "A=Human()\n",
    "print(H1.name,H1.age)"
   ]
  },
  {
   "cell_type": "code",
   "execution_count": null,
   "id": "57e1a955",
   "metadata": {},
   "outputs": [],
   "source": [
    "A=Human()\n",
    "print(H2.name,H2.age)"
   ]
  },
  {
   "cell_type": "code",
   "execution_count": null,
   "id": "cac8fb49",
   "metadata": {},
   "outputs": [],
   "source": [
    "class Human:\n",
    "    \"Famous Indian Celebs\"\n",
    "    species=\"homo sapiens\" #---->Constant cant be changed(Class Attribute)\n",
    "    def __init__(self,name,age):\n",
    "        self.Name=name\n",
    "        self.Age=age\n",
    "        self.nationality= \"Indian\"#---->Instance Attribute can be changed \n",
    "        self.personality=\"Leader\"\n",
    "\n",
    "    def print_details(self):\n",
    "        print(\"Hi This is \",self.Name,\" I am \",self.nationality, self.personality)\n",
    "        \n",
    "H2=Human(\"Virat\",30)\n",
    "H2.print_details()\n",
    "\n",
    "H3=Human(\"Modi\",71)\n",
    "H3.print_details()\n",
    "\n",
    "print(H2.__doc__)\n",
    "print(H3.species)"
   ]
  },
  {
   "cell_type": "markdown",
   "id": "880777ff",
   "metadata": {},
   "source": [
    "### Self:\n"
   ]
  },
  {
   "cell_type": "code",
   "execution_count": null,
   "id": "27eb9f8d",
   "metadata": {},
   "outputs": [],
   "source": [
    "# class Empty:\n",
    "#     pass\n",
    "\n",
    "# Optional class document string"
   ]
  },
  {
   "cell_type": "code",
   "execution_count": null,
   "id": "53a048b2",
   "metadata": {},
   "outputs": [],
   "source": [
    "len.__doc__"
   ]
  },
  {
   "cell_type": "code",
   "execution_count": null,
   "id": "9e7401b9",
   "metadata": {},
   "outputs": [],
   "source": []
  },
  {
   "cell_type": "code",
   "execution_count": null,
   "id": "d3041dd5",
   "metadata": {},
   "outputs": [],
   "source": [
    "S1=(4,5,6)\n",
    "\n",
    "S1.add({7,8})\n",
    "s1"
   ]
  },
  {
   "cell_type": "code",
   "execution_count": null,
   "id": "31a47b15",
   "metadata": {},
   "outputs": [],
   "source": [
    "class Dog:\n",
    "    def __init__(self,name,age,color):\n",
    "        self.Name=name\n",
    "        self.Age=age\n",
    "        self.Color=color\n",
    "        \n",
    "    def bark(self):\n",
    "        print ('woof woof')\n",
    "        \n",
    "    def eat(self):\n",
    "        print(self.name,'is eating')\n",
    "    \n",
    "    def walk(self):\n",
    "        print('this',self.color,'colored dog is going for a walk')"
   ]
  },
  {
   "cell_type": "code",
   "execution_count": 18,
   "id": "3a8a229f",
   "metadata": {
    "scrolled": true
   },
   "outputs": [],
   "source": [
    "class items:\n",
    "    def __int__(self,name,price,quantity):\n",
    "        self.name=name\n",
    "        self.price=price\n",
    "        self.quantity=quantity\n",
    "        \n",
    "    def calci_price(self):\n",
    "        return self.price*self.quantity\n",
    "        \n",
    "\n"
   ]
  },
  {
   "cell_type": "code",
   "execution_count": 20,
   "id": "4fd7bf3e",
   "metadata": {},
   "outputs": [
    {
     "ename": "TypeError",
     "evalue": "items() takes no arguments",
     "output_type": "error",
     "traceback": [
      "\u001b[1;31m---------------------------------------------------------------------------\u001b[0m",
      "\u001b[1;31mTypeError\u001b[0m                                 Traceback (most recent call last)",
      "\u001b[1;32m<ipython-input-20-a5b93b1df8e2>\u001b[0m in \u001b[0;36m<module>\u001b[1;34m\u001b[0m\n\u001b[1;32m----> 1\u001b[1;33m \u001b[0mitem1\u001b[0m\u001b[1;33m=\u001b[0m\u001b[0mitems\u001b[0m\u001b[1;33m(\u001b[0m\u001b[1;34m\"phone\"\u001b[0m\u001b[1;33m,\u001b[0m\u001b[1;36m100\u001b[0m\u001b[1;33m,\u001b[0m\u001b[1;36m5\u001b[0m\u001b[1;33m)\u001b[0m\u001b[1;33m\u001b[0m\u001b[1;33m\u001b[0m\u001b[0m\n\u001b[0m\u001b[0;32m      2\u001b[0m \u001b[1;33m\u001b[0m\u001b[0m\n\u001b[0;32m      3\u001b[0m \u001b[0mitem2\u001b[0m\u001b[1;33m=\u001b[0m\u001b[0mitem\u001b[0m\u001b[1;33m(\u001b[0m\u001b[1;33m)\u001b[0m\u001b[1;33m\u001b[0m\u001b[1;33m\u001b[0m\u001b[0m\n\u001b[0;32m      4\u001b[0m \u001b[1;33m\u001b[0m\u001b[0m\n\u001b[0;32m      5\u001b[0m \u001b[0mprint\u001b[0m\u001b[1;33m(\u001b[0m\u001b[0mitem1\u001b[0m\u001b[1;33m.\u001b[0m\u001b[0mcalci_price\u001b[0m\u001b[1;33m(\u001b[0m\u001b[1;33m)\u001b[0m\u001b[1;33m)\u001b[0m\u001b[1;33m\u001b[0m\u001b[1;33m\u001b[0m\u001b[0m\n",
      "\u001b[1;31mTypeError\u001b[0m: items() takes no arguments"
     ]
    }
   ],
   "source": [
    "\n",
    "\n",
    "item1=items(\"phone\",100,5)\n",
    "\n",
    "item2=item()\n",
    "\n",
    "print(item1.calci_price())\n",
    "print(item2.calci_price())"
   ]
  },
  {
   "cell_type": "code",
   "execution_count": 14,
   "id": "68c3f292",
   "metadata": {},
   "outputs": [
    {
     "data": {
      "text/plain": [
       "('Phone', 100, 5)"
      ]
     },
     "execution_count": 14,
     "metadata": {},
     "output_type": "execute_result"
    }
   ],
   "source": [
    "\"laptop\",1000,50\n",
    "\"Phone\",100,5"
   ]
  },
  {
   "cell_type": "code",
   "execution_count": 77,
   "id": "a18c275e",
   "metadata": {},
   "outputs": [],
   "source": [
    "class fan:\n",
    "  \n",
    "    def __init__(self,name,color,maxspeed=5,stop=0,switch=False):\n",
    "        self.name=name\n",
    "        self.color=color\n",
    "        self.maxspeed=maxspeed\n",
    "        self.stop=stop\n",
    "        self.switch=switch\n",
    "    \n",
    "    def turn_on(self):\n",
    "        self.switch=True\n",
    "        print(\"switched on\")\n",
    "        self.speed=1\n",
    "     \n",
    "    def turn_off(self):\n",
    "        self.switch=False\n",
    "        print(\"switched off\")\n",
    "        self.speed=0\n",
    "    \n",
    "    def Inspeed(self):\n",
    "        if self.speed>=self.maxspeed:\n",
    "            print(\"Not Possible\")\n",
    "            \n",
    "        else:\n",
    "            self.speed+=1\n",
    "        \n",
    "#         else:\n",
    "#             print(\"switch on uncle\")\n",
    "                \n",
    "            \n",
    "    def offspeed(self):\n",
    "        if self.speed==0:\n",
    "            print(\"Not Possible\")\n",
    "        else:\n",
    "            self.speed-=1\n",
    "\n",
    "    def print_details(self):\n",
    "        print(self.name,\"Utility is to blow air so that we dont feel hot\")\n",
    "        \n",
    "    def getspeed(self):\n",
    "        return self.speed"
   ]
  },
  {
   "cell_type": "code",
   "execution_count": 78,
   "id": "e92f7299",
   "metadata": {},
   "outputs": [
    {
     "name": "stdout",
     "output_type": "stream",
     "text": [
      "Bajaj Utility is to blow air so that we dont feel hot\n"
     ]
    }
   ],
   "source": [
    "Fan1=fan(\"Bajaj\",\"blue\")\n",
    "Fan1.print_details()"
   ]
  },
  {
   "cell_type": "code",
   "execution_count": 79,
   "id": "d0fea9d6",
   "metadata": {},
   "outputs": [
    {
     "data": {
      "text/plain": [
       "0"
      ]
     },
     "execution_count": 79,
     "metadata": {},
     "output_type": "execute_result"
    }
   ],
   "source": [
    "Fan1.maxspeed\n",
    "Fan1.stop"
   ]
  },
  {
   "cell_type": "code",
   "execution_count": 80,
   "id": "c92f864d",
   "metadata": {},
   "outputs": [
    {
     "data": {
      "text/plain": [
       "False"
      ]
     },
     "execution_count": 80,
     "metadata": {},
     "output_type": "execute_result"
    }
   ],
   "source": [
    "Fan1.switch"
   ]
  },
  {
   "cell_type": "code",
   "execution_count": 81,
   "id": "258ab6a4",
   "metadata": {},
   "outputs": [
    {
     "name": "stdout",
     "output_type": "stream",
     "text": [
      "switched on\n"
     ]
    }
   ],
   "source": [
    "Fan1.turn_on()"
   ]
  },
  {
   "cell_type": "code",
   "execution_count": null,
   "id": "1744677b",
   "metadata": {},
   "outputs": [],
   "source": []
  },
  {
   "cell_type": "code",
   "execution_count": 82,
   "id": "d3cad7e2",
   "metadata": {},
   "outputs": [
    {
     "data": {
      "text/plain": [
       "1"
      ]
     },
     "execution_count": 82,
     "metadata": {},
     "output_type": "execute_result"
    }
   ],
   "source": [
    "Fan1.getspeed()"
   ]
  },
  {
   "cell_type": "code",
   "execution_count": 83,
   "id": "88723b2e",
   "metadata": {},
   "outputs": [
    {
     "data": {
      "text/plain": [
       "True"
      ]
     },
     "execution_count": 83,
     "metadata": {},
     "output_type": "execute_result"
    }
   ],
   "source": [
    "Fan1.switch"
   ]
  },
  {
   "cell_type": "code",
   "execution_count": 84,
   "id": "49cda997",
   "metadata": {},
   "outputs": [
    {
     "name": "stdout",
     "output_type": "stream",
     "text": [
      "switched on\n"
     ]
    }
   ],
   "source": [
    "Fan1.turn_on()"
   ]
  },
  {
   "cell_type": "code",
   "execution_count": 85,
   "id": "09e09e85",
   "metadata": {},
   "outputs": [
    {
     "data": {
      "text/plain": [
       "1"
      ]
     },
     "execution_count": 85,
     "metadata": {},
     "output_type": "execute_result"
    }
   ],
   "source": [
    "Fan1.Inspeed()\n",
    "Fan1.getspeed()\n",
    "Fan1.offspeed()\n",
    "Fan1.getspeed()"
   ]
  },
  {
   "cell_type": "code",
   "execution_count": 86,
   "id": "3ea67900",
   "metadata": {},
   "outputs": [
    {
     "name": "stdout",
     "output_type": "stream",
     "text": [
      "None\n",
      "2\n"
     ]
    }
   ],
   "source": [
    "print(Fan1.Inspeed())\n",
    "print(Fan1.getspeed())"
   ]
  },
  {
   "cell_type": "code",
   "execution_count": 87,
   "id": "65f3d94d",
   "metadata": {},
   "outputs": [
    {
     "name": "stdout",
     "output_type": "stream",
     "text": [
      "2\n"
     ]
    }
   ],
   "source": [
    "print(Fan1.getspeed())"
   ]
  },
  {
   "cell_type": "code",
   "execution_count": 91,
   "id": "439c1f56",
   "metadata": {},
   "outputs": [
    {
     "name": "stdout",
     "output_type": "stream",
     "text": [
      "Not Possible\n"
     ]
    },
    {
     "data": {
      "text/plain": [
       "5"
      ]
     },
     "execution_count": 91,
     "metadata": {},
     "output_type": "execute_result"
    }
   ],
   "source": [
    "Fan1.Inspeed()\n",
    "Fan1.getspeed()"
   ]
  },
  {
   "cell_type": "code",
   "execution_count": 92,
   "id": "7be55a9e",
   "metadata": {},
   "outputs": [
    {
     "ename": "SyntaxError",
     "evalue": "unexpected EOF while parsing (<ipython-input-92-8f2682711df3>, line 12)",
     "output_type": "error",
     "traceback": [
      "\u001b[1;36m  File \u001b[1;32m\"<ipython-input-92-8f2682711df3>\"\u001b[1;36m, line \u001b[1;32m12\u001b[0m\n\u001b[1;33m    \u001b[0m\n\u001b[1;37m    ^\u001b[0m\n\u001b[1;31mSyntaxError\u001b[0m\u001b[1;31m:\u001b[0m unexpected EOF while parsing\n"
     ]
    }
   ],
   "source": [
    "class AC:\n",
    "    \n",
    "    def __init__(self,brand,capacity,switch=False):\n",
    "        self.brand=brand\n",
    "        self.capacity=capacity\n",
    "        self.switch=switch\n",
    "        self.mode='auto'\n",
    "        \n",
    "    def setmode(self):\n",
    "        \n",
    "        \n",
    "    "
   ]
  },
  {
   "cell_type": "code",
   "execution_count": null,
   "id": "a2bf6d15",
   "metadata": {},
   "outputs": [],
   "source": [
    "class car:\n",
    "    "
   ]
  }
 ],
 "metadata": {
  "kernelspec": {
   "display_name": "Python 3",
   "language": "python",
   "name": "python3"
  },
  "language_info": {
   "codemirror_mode": {
    "name": "ipython",
    "version": 3
   },
   "file_extension": ".py",
   "mimetype": "text/x-python",
   "name": "python",
   "nbconvert_exporter": "python",
   "pygments_lexer": "ipython3",
   "version": "3.8.8"
  }
 },
 "nbformat": 4,
 "nbformat_minor": 5
}
