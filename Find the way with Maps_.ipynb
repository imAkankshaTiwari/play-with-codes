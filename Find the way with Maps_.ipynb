{
 "cells": [
  {
   "cell_type": "markdown",
   "id": "66e1c530",
   "metadata": {},
   "source": [
    "### Find the way with Maps"
   ]
  },
  {
   "cell_type": "code",
   "execution_count": 1,
   "id": "7dd8bdd9",
   "metadata": {},
   "outputs": [
    {
     "name": "stdout",
     "output_type": "stream",
     "text": [
      "Original list:  (8, 4, 5, 6, 2, 1, 0, 4)\n",
      "Triple of mentioned numbers are :\n",
      "[24, 12, 15, 18, 6, 3, 0, 12]\n"
     ]
    }
   ],
   "source": [
    "# Write a Python program to triple all numbers of a given list of integers. Use Python map.\n",
    "\n",
    "\n",
    "l = (8,4,5,6,2,1,0,4)\n",
    "print(\"Original list: \", l)\n",
    "a = map(lambda x: x + x + x, l) \n",
    "print(\"Triple of mentioned numbers are :\")\n",
    "print(list(a))\n"
   ]
  },
  {
   "cell_type": "code",
   "execution_count": null,
   "id": "2fde3844",
   "metadata": {},
   "outputs": [],
   "source": []
  }
 ],
 "metadata": {
  "kernelspec": {
   "display_name": "Python 3",
   "language": "python",
   "name": "python3"
  },
  "language_info": {
   "codemirror_mode": {
    "name": "ipython",
    "version": 3
   },
   "file_extension": ".py",
   "mimetype": "text/x-python",
   "name": "python",
   "nbconvert_exporter": "python",
   "pygments_lexer": "ipython3",
   "version": "3.8.8"
  }
 },
 "nbformat": 4,
 "nbformat_minor": 5
}
