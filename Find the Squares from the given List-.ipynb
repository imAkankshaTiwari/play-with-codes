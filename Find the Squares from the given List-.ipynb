{
 "cells": [
  {
   "cell_type": "markdown",
   "id": "a65eed4b",
   "metadata": {},
   "source": [
    "### Find the Squares from the given List"
   ]
  },
  {
   "cell_type": "code",
   "execution_count": 1,
   "id": "a9913840",
   "metadata": {},
   "outputs": [
    {
     "name": "stdout",
     "output_type": "stream",
     "text": [
      "Given list:  (8, 4, 5, 6, 2, 1, 0, 4)\n",
      "Squares of the list items :\n",
      "[64, 16, 25, 36, 4, 1, 0, 16]\n"
     ]
    }
   ],
   "source": [
    "# Write a Python program to square the elements of a list using map() function.\n",
    "\n",
    "l = (8,4,5,6,2,1,0,4)\n",
    "print(\"Given list: \", l)\n",
    "a = map(lambda x: x**2, l) \n",
    "print(\"Squares of the list items :\")\n",
    "print(list(a))"
   ]
  },
  {
   "cell_type": "code",
   "execution_count": null,
   "id": "c6fa3a7f",
   "metadata": {},
   "outputs": [],
   "source": []
  }
 ],
 "metadata": {
  "kernelspec": {
   "display_name": "Python 3",
   "language": "python",
   "name": "python3"
  },
  "language_info": {
   "codemirror_mode": {
    "name": "ipython",
    "version": 3
   },
   "file_extension": ".py",
   "mimetype": "text/x-python",
   "name": "python",
   "nbconvert_exporter": "python",
   "pygments_lexer": "ipython3",
   "version": "3.8.8"
  }
 },
 "nbformat": 4,
 "nbformat_minor": 5
}
