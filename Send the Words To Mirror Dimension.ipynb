{
 "cells": [
  {
   "cell_type": "markdown",
   "id": "232eeaca",
   "metadata": {},
   "source": [
    "### Send the Words To Mirror Dimension"
   ]
  },
  {
   "cell_type": "code",
   "execution_count": 5,
   "id": "10ff1145",
   "metadata": {},
   "outputs": [
    {
     "name": "stdout",
     "output_type": "stream",
     "text": [
      " :adoydE\n"
     ]
    }
   ],
   "source": [
    "a = \"Edyoda: \"[::-1]\n",
    "print(a)\n"
   ]
  },
  {
   "cell_type": "code",
   "execution_count": 3,
   "id": "26f39a6b",
   "metadata": {},
   "outputs": [
    {
     "name": "stdout",
     "output_type": "stream",
     "text": [
      "Input your favourite IPL team: Royal challengers Banglore\n",
      "erolgnaB sregnellahc layoR"
     ]
    }
   ],
   "source": [
    "favourite_team=input(\"Input your favourite IPL team: \")\n",
    "for character in range(len(favourite_team)-1,-1,-1):\n",
    "    print(favourite_team[character],end=\"\")"
   ]
  },
  {
   "cell_type": "code",
   "execution_count": null,
   "id": "50ae437e",
   "metadata": {},
   "outputs": [],
   "source": []
  }
 ],
 "metadata": {
  "kernelspec": {
   "display_name": "Python 3",
   "language": "python",
   "name": "python3"
  },
  "language_info": {
   "codemirror_mode": {
    "name": "ipython",
    "version": 3
   },
   "file_extension": ".py",
   "mimetype": "text/x-python",
   "name": "python",
   "nbconvert_exporter": "python",
   "pygments_lexer": "ipython3",
   "version": "3.8.8"
  }
 },
 "nbformat": 4,
 "nbformat_minor": 5
}
