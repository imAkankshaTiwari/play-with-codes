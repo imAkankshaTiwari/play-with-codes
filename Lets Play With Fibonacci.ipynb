{
 "cells": [
  {
   "cell_type": "markdown",
   "id": "d9261bb6",
   "metadata": {},
   "source": [
    "### Lets Play With Fibonacci:\n"
   ]
  },
  {
   "cell_type": "code",
   "execution_count": 1,
   "id": "f0503682",
   "metadata": {},
   "outputs": [
    {
     "name": "stdout",
     "output_type": "stream",
     "text": [
      "Enter the term: 50\n",
      "0\n",
      "1\n",
      "1\n",
      "2\n",
      "3\n",
      "5\n",
      "8\n",
      "13\n",
      "21\n",
      "34\n"
     ]
    }
   ],
   "source": [
    "# Using while loop(between 0-50)\n",
    "\n",
    "num=int(input(\"Enter the term: \"))\n",
    "n1,n2=0,1\n",
    "sum=0\n",
    "if num<=0:\n",
    "    print('please enter no.> 0')\n",
    "else:\n",
    "    while(sum<=num):\n",
    "        print(sum)\n",
    "        n1=n2\n",
    "        n2=sum\n",
    "        sum=n1+n2"
   ]
  },
  {
   "cell_type": "code",
   "execution_count": 2,
   "id": "1edd3db3",
   "metadata": {},
   "outputs": [
    {
     "name": "stdout",
     "output_type": "stream",
     "text": [
      "Enter the term: 50\n",
      "0\n",
      "1\n",
      "1\n",
      "2\n",
      "3\n",
      "5\n",
      "8\n",
      "13\n",
      "21\n",
      "34\n",
      "55\n",
      "89\n",
      "144\n",
      "233\n",
      "377\n",
      "610\n",
      "987\n",
      "1597\n",
      "2584\n",
      "4181\n",
      "6765\n",
      "10946\n",
      "17711\n",
      "28657\n",
      "46368\n",
      "75025\n",
      "121393\n",
      "196418\n",
      "317811\n",
      "514229\n",
      "832040\n",
      "1346269\n",
      "2178309\n",
      "3524578\n",
      "5702887\n",
      "9227465\n",
      "14930352\n",
      "24157817\n",
      "39088169\n",
      "63245986\n",
      "102334155\n",
      "165580141\n",
      "267914296\n",
      "433494437\n",
      "701408733\n",
      "1134903170\n",
      "1836311903\n",
      "2971215073\n",
      "4807526976\n",
      "7778742049\n"
     ]
    }
   ],
   "source": [
    "# Using for loop (till 50th term)\n",
    "\n",
    "num=int(input(\"Enter the term: \"))\n",
    "n1,n2=0,1\n",
    "sum=0\n",
    "if num<=0:\n",
    "    print('Please enter no.> 0')\n",
    "else:\n",
    "    for i in range (0, num):\n",
    "        print(sum)\n",
    "        n1=n2\n",
    "        n2=sum\n",
    "        sum=n1+n2"
   ]
  },
  {
   "cell_type": "code",
   "execution_count": null,
   "id": "489b03c7",
   "metadata": {},
   "outputs": [],
   "source": []
  }
 ],
 "metadata": {
  "kernelspec": {
   "display_name": "Python 3",
   "language": "python",
   "name": "python3"
  },
  "language_info": {
   "codemirror_mode": {
    "name": "ipython",
    "version": 3
   },
   "file_extension": ".py",
   "mimetype": "text/x-python",
   "name": "python",
   "nbconvert_exporter": "python",
   "pygments_lexer": "ipython3",
   "version": "3.8.8"
  }
 },
 "nbformat": 4,
 "nbformat_minor": 5
}
