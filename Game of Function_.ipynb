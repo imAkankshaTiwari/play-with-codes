{
 "cells": [
  {
   "cell_type": "markdown",
   "id": "ab3fc63f",
   "metadata": {},
   "source": [
    "### Game of Function\n"
   ]
  },
  {
   "cell_type": "code",
   "execution_count": 2,
   "id": "b3c6c963",
   "metadata": {},
   "outputs": [
    {
     "name": "stdout",
     "output_type": "stream",
     "text": [
      "20\n"
     ]
    }
   ],
   "source": [
    "\n",
    "numbers=[8, 2, 3, 0, 7]\n",
    "\n",
    "def sum(numbers):\n",
    "    total=0\n",
    "    \n",
    "    for x in numbers:\n",
    "        total+= x\n",
    "        \n",
    "    return total\n",
    "print(sum(numbers))"
   ]
  },
  {
   "cell_type": "code",
   "execution_count": null,
   "id": "6bd2b3ff",
   "metadata": {},
   "outputs": [],
   "source": []
  }
 ],
 "metadata": {
  "kernelspec": {
   "display_name": "Python 3",
   "language": "python",
   "name": "python3"
  },
  "language_info": {
   "codemirror_mode": {
    "name": "ipython",
    "version": 3
   },
   "file_extension": ".py",
   "mimetype": "text/x-python",
   "name": "python",
   "nbconvert_exporter": "python",
   "pygments_lexer": "ipython3",
   "version": "3.8.8"
  }
 },
 "nbformat": 4,
 "nbformat_minor": 5
}
