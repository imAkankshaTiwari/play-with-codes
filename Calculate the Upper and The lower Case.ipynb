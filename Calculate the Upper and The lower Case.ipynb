{
 "cells": [
  {
   "cell_type": "markdown",
   "id": "fdf43366",
   "metadata": {},
   "source": [
    "### Calculate the Upper and The lower Case"
   ]
  },
  {
   "cell_type": "code",
   "execution_count": 2,
   "id": "f76eb798",
   "metadata": {},
   "outputs": [
    {
     "name": "stdout",
     "output_type": "stream",
     "text": [
      "original string A quick BROWN Fox JUMP Right over THE Lazy Dog. \n",
      "number of upper case alphabets: 17\n",
      "number of lower case alphabets: 20\n"
     ]
    }
   ],
   "source": [
    "def string_test(s):\n",
    "    d={\"UPPER_CASE\":0, \"lower_case\":0}\n",
    "    for c in s:\n",
    "        if c.isupper():\n",
    "            d[\"UPPER_CASE\"]+=1\n",
    "        elif c.islower():\n",
    "            d[\"lower_case\"]+=1\n",
    "        else:\n",
    "            pass\n",
    "    print(f\"original string\",s)\n",
    "    print(\"number of upper case alphabets:\",d[\"UPPER_CASE\"])\n",
    "    print(\"number of lower case alphabets:\",d[\"lower_case\"])\n",
    "string_test(\"A quick BROWN Fox JUMP Right over THE Lazy Dog. \")"
   ]
  },
  {
   "cell_type": "code",
   "execution_count": null,
   "id": "857856c8",
   "metadata": {},
   "outputs": [],
   "source": []
  }
 ],
 "metadata": {
  "kernelspec": {
   "display_name": "Python 3",
   "language": "python",
   "name": "python3"
  },
  "language_info": {
   "codemirror_mode": {
    "name": "ipython",
    "version": 3
   },
   "file_extension": ".py",
   "mimetype": "text/x-python",
   "name": "python",
   "nbconvert_exporter": "python",
   "pygments_lexer": "ipython3",
   "version": "3.8.8"
  }
 },
 "nbformat": 4,
 "nbformat_minor": 5
}
