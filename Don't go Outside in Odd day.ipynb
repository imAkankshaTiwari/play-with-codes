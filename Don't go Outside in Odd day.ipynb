{
 "cells": [
  {
   "cell_type": "markdown",
   "id": "f6ab78fb",
   "metadata": {},
   "source": [
    "### Don't go Outside in Odd day"
   ]
  },
  {
   "cell_type": "markdown",
   "id": "d40b650a",
   "metadata": {},
   "source": [
    "### Write a Python program to count the number of even and odd numbers from a series of numbers.\n"
   ]
  },
  {
   "cell_type": "code",
   "execution_count": 4,
   "id": "0d7688ca",
   "metadata": {},
   "outputs": [
    {
     "name": "stdout",
     "output_type": "stream",
     "text": [
      "[1, 2, 3, 4, 5, 6, 7, 8, 9, 10, 11, 12, 13, 14, 15]\n",
      "Odd number: 7\n",
      "Even number: 8\n"
     ]
    }
   ],
   "source": [
    "a=[1,2,3,4,5,6,7,8,9,10,11,12,13,14,15]\n",
    "b=0\n",
    "c=0\n",
    "for i in range(0,15):\n",
    "    if(i%2==0):\n",
    "        b=b+1\n",
    "    else:\n",
    "        c=c+1\n",
    "print(a)\n",
    "print(\"Odd number:\",c)\n",
    "print(\"Even number:\",b)"
   ]
  },
  {
   "cell_type": "code",
   "execution_count": 5,
   "id": "55afded3",
   "metadata": {},
   "outputs": [
    {
     "name": "stdout",
     "output_type": "stream",
     "text": [
      "[1, 2, 3, 4, 5, 6, 7, 8, 9, 10, 11, 12, 13, 14, 15]\n",
      "Odd number: 7\n",
      "Even number: 8\n"
     ]
    }
   ],
   "source": [
    "# As per question odd = even and even = odd:\n",
    "\n",
    "a=[1,2,3,4,5,6,7,8,9,10,11,12,13,14,15]\n",
    "b=0\n",
    "c=0\n",
    "for i in range(0,15):\n",
    "    if(i%2==0):\n",
    "        b=b+1\n",
    "    else:\n",
    "        c=c+1\n",
    "print(a)\n",
    "print(\"Odd number:\",c)\n",
    "print(\"Even number:\",b)"
   ]
  },
  {
   "cell_type": "code",
   "execution_count": null,
   "id": "3ce5983a",
   "metadata": {},
   "outputs": [],
   "source": []
  }
 ],
 "metadata": {
  "kernelspec": {
   "display_name": "Python 3",
   "language": "python",
   "name": "python3"
  },
  "language_info": {
   "codemirror_mode": {
    "name": "ipython",
    "version": 3
   },
   "file_extension": ".py",
   "mimetype": "text/x-python",
   "name": "python",
   "nbconvert_exporter": "python",
   "pygments_lexer": "ipython3",
   "version": "3.8.8"
  }
 },
 "nbformat": 4,
 "nbformat_minor": 5
}
